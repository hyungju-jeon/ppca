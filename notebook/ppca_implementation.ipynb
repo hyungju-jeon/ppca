{
 "cells": [
  {
   "cell_type": "markdown",
   "metadata": {
    "collapsed": true,
    "pycharm": {
     "name": "#%% md\n"
    }
   },
   "source": [
    "# Probabilistic Principal Component Analysis Implementation\n",
    "Implementation of Probabilistic PCA (ppca) algorithm using EM algorithm\n",
    "\n",
    "**References**\n",
    "* Tipping, M. E., & Bishop, C. M. (1999). Probabilistic Principal Component Analysis, 611–622.\n",
    "\n",
    "***\n",
    "## Probability model\n",
    "\\begin{align}\n",
    "y &= \\mathbf{W}x + \\mu + \\epsilon \\\\\n",
    "x &\\sim \\mathcal{N} (0,I) \\\\\n",
    "\\epsilon &\\sim \\mathcal{N} (0,\\sigma^2I)\n",
    "\\end{align}\n",
    "\n",
    "where $ \\mathbf{W} $ is $d \\times q$ matrix. Then the conditional distribution of $y$ over $x$ is given by\n",
    "\\begin{equation}\n",
    "y|x \\sim \\mathcal{N} (\\mathbf{W}x+\\mu, \\sigma^2I)\n",
    "\\end{equation}\n",
    "and marginal distribution of $y$\n",
    "\\begin{equation}\n",
    "y \\sim \\mathcal{N} (\\mu, C)\n",
    "\\end{equation}\n",
    "and the observation covariance is specified by $C = \\mathbf{W}\\mathbf{W}^\\intercal +\\sigma^2I$. \n",
    "\n",
    "Finally, the posterior distribution $p(x|y)$ can be computed as follows\n",
    "\\begin{align}\n",
    "p(x|y,\\mathbf{W},\\sigma) & = \\mathcal{N} \\left(\\mathbf{W}^\\intercal C^{-1} \\left(y - \\mu \\right),  I - \\mathbf{W}^\\intercal C^{-1} \\mathbf{W}\\right) \\\\\n",
    "                         & = \\mathcal{N} \\left( M^{-1}\\mathbf{W}^\\intercal \\left(y - \\mu \\right),  \\sigma^2 M^{-1}\\right)\n",
    "\\end{align}\n",
    "where $ M = \\mathbf{W}^\\intercal\\mathbf{W} +\\sigma^2I $.\n",
    "***\n",
    "## EM for PPCA\n",
    "The complete log-likelihood of the model, including both observation $\\mathbf{Y} = (y_1,y_2,\\cdots,y_N)$ and latent variable $\\mathbf{X} = (x_1,x_2,\\cdots,x_N)$, is\n",
    "\\begin{align}\n",
    "\\mathcal{L} & = \\log p(\\mathbf{Y},\\mathbf{Z}|\\mu, \\mathbf{W}, \\sigma^2)  \\\\\n",
    "            & = \\sum_{i=1}^N \\left( \\log p(y_i|x_i) + \\log p(x_i)\\right)\n",
    "            & = \n",
    "\\end{align}"
   ]
  },
  {
   "cell_type": "markdown",
   "metadata": {},
   "source": [
    "***\n",
    "## Initialization"
   ]
  },
  {
   "cell_type": "code",
   "execution_count": 2,
   "metadata": {
    "collapsed": false,
    "pycharm": {
     "name": "#%%\n"
    }
   },
   "outputs": [],
   "source": [
    "import numpy as np"
   ]
  }
 ],
 "metadata": {
  "kernelspec": {
   "display_name": "Python 3",
   "language": "python",
   "name": "python3"
  },
  "language_info": {
   "codemirror_mode": {
    "name": "ipython",
    "version": 3
   },
   "file_extension": ".py",
   "mimetype": "text/x-python",
   "name": "python",
   "nbconvert_exporter": "python",
   "pygments_lexer": "ipython3",
   "version": "3.8.8"
  }
 },
 "nbformat": 4,
 "nbformat_minor": 0
}
