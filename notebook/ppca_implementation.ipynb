{
 "cells": [
  {
   "cell_type": "markdown",
   "metadata": {
    "collapsed": true,
    "pycharm": {
     "name": "#%% md\n"
    }
   },
   "source": [
    "# Probabilistic Principal Component Analysis Implementation \n",
    "Implementation of Probabilistic PCA (ppca) algorithm using EM algorithm\n",
    "\n",
    "**References**\n",
    "* Tipping, M. E., & Bishop, C. M. (1999). Probabilistic Principal Component Analysis, 611–622.\n",
    "\n",
    "***\n",
    "## Probability model \n",
    "Our latent variable model for d-dimensional observation vector $y$ with q-dimentional latent vector $x$ is defined as follows\n",
    "\\begin{align}\n",
    "y &= \\mathbf{W}x + \\mu + \\epsilon \\\\\n",
    "x &\\sim \\mathcal{N} (0,I) \\\\\n",
    "\\epsilon &\\sim \\mathcal{N} (0,\\sigma^2I)\n",
    "\\end{align}\n",
    "\n",
    "where $ \\mathbf{W} $ is $d \\times q$ matrix. \n",
    "\n",
    "Then the conditional distribution of $y$ over $x$ is given by\n",
    "\\begin{equation}\n",
    "p(y|x) = \\mathcal{N} (\\mathbf{W}x+\\mu, \\sigma^2I)\n",
    "\\end{equation}\n",
    "and marginal distribution of $y$\n",
    "\\begin{equation}\n",
    "p(y) = \\mathcal{N} (\\mu, C)\n",
    "\\end{equation}\n",
    "where the observation covariance is specified by \n",
    "\\begin{equation}\n",
    "C = \\mathbf{W}\\mathbf{W}^\\intercal +\\sigma^2I\n",
    "\\end{equation}\n",
    "\n",
    "Finally, the posterior distribution $p(x|y)$ can be computed as follows\n",
    "\\begin{align}\n",
    "p(x|y,\\mathbf{W},\\sigma) & = \\mathcal{N} \\left(\\mathbf{W}^\\intercal C^{-1} \\left(y - \\mu \\right),  I - \\mathbf{W}^\\intercal C^{-1} \\mathbf{W}\\right) \\\\\n",
    "                         & = \\mathcal{N} \\left( M^{-1}\\mathbf{W}^\\intercal \\left(y - \\mu \\right),  \\sigma^2 M^{-1}\\right)\n",
    "\\end{align}\n",
    "where $ M = \\mathbf{W}^\\intercal\\mathbf{W} +\\sigma^2I $.\n",
    "***\n",
    "\n"
   ]
  },
  {
   "cell_type": "markdown",
   "metadata": {},
   "source": [
    "## EM for PPCA \n",
    "The complete log-likelihood of the model, including both observation $\\mathbf{Y} = (y_1,y_2,\\cdots,y_N)$ and latent variable $\\mathbf{X} = (x_1,x_2,\\cdots,x_N)$, is\n",
    "\\begin{align}\n",
    "\\mathcal{L} & = \\log p(\\mathbf{Y},\\mathbf{Z}|\\mu, \\mathbf{W}, \\sigma^2)  \\\\\n",
    "            & = \\sum_{i=1}^N \\left( \\log p(y_i|x_i) + \\log p(x_i)\\right) \\\\\n",
    "\\end{align}\n",
    "### E-step \n",
    "In the $\\mathbf{E}$-Step, we take the expectation of $\\mathcal{L}$ with respect to the posterior distribution $p(x|y,\\mathbf{W},\\sigma)$\n",
    "\\begin{align}\n",
    "\\mathbf{E}\\left[\\mathcal{L}\\right]  = &-\\frac{nd}{2}\\log2\\pi\\sigma^2 \n",
    "                                       -\\frac{1}{2\\sigma^2}\\sum_{i=1}^N||y_i-\\mu||_2 \n",
    "                                       +\\frac{1}{\\sigma^2}\\sum_{i=1}^N \\mathbf{E}[x_i | y_i]^\\intercal \\mathbf{W}^\\intercal (y_i-\\mu) \n",
    "                                       -\\frac{1}{2\\sigma^2}Tr\\left( \\mathbf{E}[x_i x_i^\\intercal|y_i]\\mathbf{W}^\\intercal \\mathbf{W} \\right)\\\\\n",
    "                                    &-\\frac{nq}{2}\\log2\\pi -\\frac{1}{2}\\sum_{i=1}^N \\mathbf{E}[x_i x_i^\\intercal|y_i]\n",
    "\\end{align}\n",
    "The conditional expectations $\\mathbf{E}[x_i|y_i]$ and $\\mathbf{E}[x_i x_i^\\intercal|y_i]$ can be estimated using current value\n",
    "\\begin{align}\n",
    "\\mathbf{E}[x_i|y_i] & =  M^{-1}\\mathbf{W}^\\intercal \\left(y - \\bar{y} \\right) \\\\\n",
    "\\mathbf{E}[x_i x_i^\\intercal|y_i] & = Var(x_i) + \\mathbf{E}[x_i]\\mathbf{E}[x_i]^\\intercal  \\\\\n",
    "                                  & = \\sigma^2 M^{-1}+ \\mathbf{E}[x_i]\\mathbf{E}[x_i]^\\intercal  \n",
    "\\end{align}"
   ]
  },
  {
   "cell_type": "markdown",
   "metadata": {},
   "source": [
    "### M-step\n",
    "In the $\\mathbf{M}$-Step, we maximize $\\mathbf{E}\\left[\\mathcal{L}\\right]$ with respect to $\\mathbf{W}$ and $\\sigma^2$.\n",
    "First, take the derivative of $\\mathbf{E}\\left[\\mathcal{L}\\right]$ with respect to $\\mathbf{W}$ and set it to 0, to get the updated $\\mathbf{W}_{new}$\n",
    "\\begin{align}\n",
    "\\frac{\\partial\\mathbf{E}\\left[\\mathcal{L}\\right]}{\\partial \\mathbf{W}} & = \\frac{1}{\\sigma^2}\\sum_{i=1}^N (y_i-\\mu) \\mathbf{E}[x_i|y_i]^\\intercal - \\frac{1}{2\\sigma^2}\\sum_{i=1}^N Tr\\left(\\mathbf{W}_{new}\\mathbf{E}[x_i x_i^\\intercal|y_i]\\right)\\\\\n",
    "& = 0\n",
    "\\end{align}\n",
    "\n",
    "\n",
    "\\begin{equation}\n",
    "\\mathbf{W}_{new}  = \\left( \\sum_{i=1}^N (y_i-\\mu) \\mathbf{E}[x_i|y_i]^\\intercal \\right) \\left( \\sum_{i=1}^N\\mathbf{E}[x_i x_i^\\intercal|y_i] \\right)^{-1}\n",
    "\\end{equation}\n",
    "\n",
    "Next, take the derivative of $\\mathbf{E}\\left[\\mathcal{L}\\right]$ with respect to $\\sigma^2$ and set it to 0, to get the updated $\\sigma^2_{new}$\n",
    "\\begin{align}\n",
    "\\frac{\\partial\\mathbf{E}\\left[\\mathcal{L}\\right]}{\\partial \\sigma^2} & = -\\frac{nd}{2\\sigma^2}+\\frac{1}{2\\sigma^4}\\sum_{i=1}^N||y_i-\\mu||_2 + \\frac{1}{\\sigma^4}\\sum_{i=1}^N\\mathbf{E}[x_i | y_i]^\\intercal \\mathbf{W}^\\intercal (y_i-\\mu) + \\frac{1}{2\\sigma^4}\\sum_{i=1}^NTr\\left(\\mathbf{E}[x_i x_i^\\intercal|y_i]\\mathbf{W}^\\intercal \\mathbf{W}\\right) \\\\\n",
    "& = 0\n",
    "\\end{align}\n",
    "\n",
    "\n",
    "\\begin{equation}\n",
    "\\sigma^2_{new}  = \\frac{1}{nd} \\sum_{i=1}^N \\left(||y_i-\\mu||_2 - 2\\mathbf{E}[x_i | y_i]^\\intercal \\mathbf{W}_{new}^\\intercal (y_i-\\mu) + Tr\\left(\\mathbf{E}[x_i x_i^\\intercal|y_i]\\mathbf{W}_{new}^\\intercal \\mathbf{W}_{new}\\right)\\right)\n",
    "\\end{equation}"
   ]
  },
  {
   "cell_type": "markdown",
   "metadata": {},
   "source": [
    "***\n",
    "## Initialization"
   ]
  },
  {
   "cell_type": "code",
   "execution_count": 55,
   "metadata": {
    "collapsed": false,
    "pycharm": {
     "name": "#%%\n"
    }
   },
   "outputs": [],
   "source": [
    "import os\n",
    "import numpy as np\n",
    "from numpy.linalg import inv\n",
    "from numpy import trace as tr\n",
    "import sklearn.datasets as ds\n",
    "import matplotlib.pyplot as plt\n",
    "\n",
    "os.sys.path.append('../src/')"
   ]
  },
  {
   "cell_type": "markdown",
   "metadata": {},
   "source": [
    "## PPCA class definition"
   ]
  },
  {
   "cell_type": "code",
   "execution_count": 93,
   "metadata": {},
   "outputs": [],
   "source": [
    "class PPCA(object):\n",
    "\t\"\"\"\tEM-based PPCA \"\"\"\n",
    "\n",
    "\tdef __init__(self, q=2, sigma=1.0, max_iter=50):\n",
    "\t\t# OBSERVED VARIABLE\n",
    "\t\t# y : observed variable (data)\n",
    "\t\tself.y = None\n",
    "\t\t# d : data dimentionality\n",
    "\t\tself.d = 0\n",
    "\t\t# N : number of data \n",
    "\t\tself.N = 0\n",
    "\t\t# mu : data mean (y_bar)\n",
    "\t\tself.mu = None\n",
    "\t\t# Latent VARIABLE\n",
    "\t\t# q : latent variable dimensionality \n",
    "\t\tself.q = q\n",
    "\t\t# sigma : standard deviation of the noise\n",
    "\t\tself.sigma = sigma\n",
    "\t\t# W : d x q matrix relating observed vs. latent variable \n",
    "\t\tself.W = None\n",
    "\t\t# EM properties\n",
    "\t\t# max_iter : maximum iterations\n",
    "\t\tself.max_iter = max_iter\n",
    "\t\t\t\n",
    "\tdef fit(self, data, max_iter=None, q=None, verbose=False):\n",
    "\t\t\"\"\" \n",
    "\t\tPerform PPCA to find latent space and transform\n",
    "\n",
    "\t\tParameters\n",
    "\t\t----------\n",
    "\t\tdata : ndarray\n",
    "\t\t\tObserved variables that are being tranformed\n",
    "\t\tmax_iter : int (optional)\n",
    "\t\t\tmaximum EM iteration \n",
    "\t\tq : int (optional)\n",
    "\t\t\tlatent variable dimensionality \n",
    "\t\tverbose : logical (optional)\n",
    "\t\t\tDisplay iteration \n",
    "\t\t\"\"\"\n",
    "\t\tself.y = data\n",
    "\t\tself.d = data.shape[0]\n",
    "\t\tself.N = data.shape[1]\n",
    "\t\tself.mu = np.mean(data, axis=0)\n",
    "\t\tif max_iter is not None:\n",
    "\t\t\tself.max_iter = max_iter\n",
    "\t\tif q is not None:\n",
    "\t\t\tself.q = q\n",
    "\t\tprint('Starting EM algorithm')\n",
    "\t\t[W, y, d, q, N, mu, sigma] = [self.W, self.y, self.d, self.q, self.N, self.mu, self.sigma]\n",
    "\t\tif W is None:\n",
    "\t\t\tW = np.random.rand(self.d, self.q)\n",
    "\n",
    "\t\tfor i in range(self.max_iter):\n",
    "\t\t\tif verbose:\n",
    "\t\t\t\tif self.max_iter > 10:\n",
    "\t\t\t\t\tif i%10==0: print(f'Running iter {i}') \n",
    "\t\t\t\telse:\n",
    "\t\t\t\t\tprint(f'Running iter {i}')\n",
    "\t\t\t# Running E-step\n",
    "\t\t\tM = (W.T).dot(W) + sigma * np.eye(q) # M : q x q\n",
    "\t\t\tinvM = inv(M) # invM : q x q\n",
    "\t\t\tEZ = invM.dot(W.T).dot((y - mu)) # EZ : q x N\n",
    "\t\t\tEZZ = sigma*invM + EZ.dot(EZ.T) # EZZ : q x q\n",
    "\t\t\t# Running M-step\t\n",
    "\t\t\tW = ((y - mu).dot(EZ.T)).dot(inv(EZZ))\n",
    "\t\t\tsigma = np.linalg.norm(y - mu) - 2*tr((EZ.T).dot(W.T).dot((y - mu))) + tr(EZZ.dot((W.T).dot(W)))\n",
    "\t\t\tsigma = (1/(N*d))*sigma\n",
    "\t\t\tsigma = np.absolute(sigma)\n",
    "\t\tself.W = W\n",
    "\t\tself.sigma = sigma\n",
    "\n",
    "\n",
    "\tdef transform(self, data=None):\n",
    "\t\t\"\"\" \n",
    "\t\tTransform observed variable onto latent space \n",
    "\n",
    "\t\tParameters\n",
    "\t\t----------\n",
    "\t\tdata : ndarray (optional)\n",
    "\t\t\tObserved variables that are being tranformed\n",
    "\n",
    "\t\tReturns\n",
    "\t\t-------\n",
    "\t\tx : ndarray\n",
    "\t\t\ttransformed latent variable\n",
    "\t\t\"\"\"\n",
    "\t\tif data is None:\n",
    "\t\t\ty = self.y\n",
    "\t\t[W, q, mu, sigma] = [self.W, self.q, self.mu, self.sigma]\n",
    "\t\tM = (W.T).dot(W) + sigma * np.eye(q)\n",
    "\t\tinvM = inv(M)\n",
    "\t\tx = invM.dot(W.T).dot(y - mu)\n",
    "\t\treturn x\n",
    "\n",
    "\tdef reconstruct(self, x=None):\n",
    "\t\t\"\"\" \n",
    "\t\tReconstruct signal from latent variable \n",
    "\n",
    "\t\tParameters\n",
    "\t\t----------\n",
    "\t\tdata : ndarray (optional)\n",
    "\t\t\tlatent variable\n",
    "\n",
    "\t\tReturns\n",
    "\t\t-------\n",
    "\t\ty : ndarray\n",
    "\t\t\tReconstructed original signal\n",
    "\t\t\"\"\"\n",
    "\t\tif x is None:\n",
    "\t\t\tx = self.transform()\n",
    "\t\t[W, d, N, mu, sigma] = [self.W, self.d, self.N, self.mu, self.sigma]\n",
    "\t\ty = W.dot(x) + mu\n",
    "\t\tfor i in range(N):\n",
    "\t\t\teps = np.random.normal(0, sigma, d)\n",
    "\t\t\ty[:, i] += eps\n",
    "\t\treturn y\n"
   ]
  },
  {
   "cell_type": "markdown",
   "metadata": {},
   "source": [
    "## Iris data\n",
    "### Load data"
   ]
  },
  {
   "cell_type": "code",
   "execution_count": 107,
   "metadata": {},
   "outputs": [
    {
     "name": "stdout",
     "output_type": "stream",
     "text": [
      "Starting EM algorithm\n",
      "Running iter 0\n",
      "Running iter 10\n",
      "Running iter 20\n",
      "Running iter 30\n",
      "Running iter 40\n"
     ]
    },
    {
     "data": {
      "text/plain": [
       "<matplotlib.collections.PathCollection at 0x7f7f3d05ce50>"
      ]
     },
     "execution_count": 107,
     "metadata": {},
     "output_type": "execute_result"
    },
    {
     "data": {
      "image/png": "[encoded data removed]",
      "text/plain": [
       "<Figure size 432x288 with 1 Axes>"
      ]
     },
     "metadata": {
      "needs_background": "light"
     },
     "output_type": "display_data"
    }
   ],
   "source": [
    "iris = ds.load_iris()\n",
    "iris_y = iris.data.T\n",
    "iris_classes = iris.target"
   ]
  },
  {
   "cell_type": "markdown",
   "metadata": {},
   "source": [
    "### Perform PPCA"
   ]
  },
  {
   "cell_type": "code",
   "execution_count": null,
   "metadata": {},
   "outputs": [],
   "source": [
    "ppca = PPCA()\n",
    "ppca.fit(iris_y, verbose=True)\n",
    "x = ppca.transform()"
   ]
  },
  {
   "cell_type": "markdown",
   "metadata": {},
   "source": [
    "### Plot result"
   ]
  },
  {
   "cell_type": "code",
   "execution_count": null,
   "metadata": {},
   "outputs": [],
   "source": [
    "ax = plt.gca() \n",
    "ax.scatter(x[0, :], x[1, :], c=iris_classes, s=20)"
   ]
  },
  {
   "cell_type": "markdown",
   "metadata": {},
   "source": []
  }
 ],
 "metadata": {
  "kernelspec": {
   "display_name": "Python 3",
   "language": "python",
   "name": "python3"
  },
  "language_info": {
   "codemirror_mode": {
    "name": "ipython",
    "version": 3
   },
   "file_extension": ".py",
   "mimetype": "text/x-python",
   "name": "python",
   "nbconvert_exporter": "python",
   "pygments_lexer": "ipython3",
   "version": "3.8.8"
  }
 },
 "nbformat": 4,
 "nbformat_minor": 0
}
