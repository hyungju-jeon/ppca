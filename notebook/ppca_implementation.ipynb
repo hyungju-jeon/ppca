{
 "cells": [
  {
   "cell_type": "markdown",
   "metadata": {
    "collapsed": true,
    "pycharm": {
     "name": "#%% md\n"
    }
   },
   "source": [
    "# Probabilistic Principal Component Analysis Implementation \n",
    "Implementation of Probabilistic PCA (ppca) algorithm using EM algorithm\n",
    "\n",
    "**References**\n",
    "* Tipping, M. E., & Bishop, C. M. (1999). Probabilistic Principal Component Analysis, 611–622.\n",
    "\n",
    "***\n",
    "## Probability model \n",
    "Our latent variable model for d-dimensional observation vector $y$ with q-dimentional latent vector $x$ is defined as follows\n",
    "\\begin{align}\n",
    "y &= \\mathbf{W}x + \\mu + \\epsilon \\\\\n",
    "x &\\sim \\mathcal{N} (0,I) \\\\\n",
    "\\epsilon &\\sim \\mathcal{N} (0,\\sigma^2I)\n",
    "\\end{align}\n",
    "\n",
    "where $ \\mathbf{W} $ is $d \\times q$ matrix. \n",
    "\n",
    "Then the conditional distribution of $y$ over $x$ is given by\n",
    "\\begin{equation}\n",
    "p(y|x) = \\mathcal{N} (\\mathbf{W}x+\\mu, \\sigma^2I)\n",
    "\\end{equation}\n",
    "and marginal distribution of $y$\n",
    "\\begin{equation}\n",
    "p(y) = \\mathcal{N} (\\mu, C)\n",
    "\\end{equation}\n",
    "where the observation covariance is specified by \n",
    "\\begin{equation}\n",
    "C = \\mathbf{W}\\mathbf{W}^\\intercal +\\sigma^2I\n",
    "\\end{equation}\n",
    "\n",
    "Finally, the posterior distribution $p(x|y)$ can be computed as follows\n",
    "\\begin{align}\n",
    "p(x|y,\\mathbf{W},\\sigma) & = \\mathcal{N} \\left(\\mathbf{W}^\\intercal C^{-1} \\left(y - \\mu \\right),  I - \\mathbf{W}^\\intercal C^{-1} \\mathbf{W}\\right) \\\\\n",
    "                         & = \\mathcal{N} \\left( M^{-1}\\mathbf{W}^\\intercal \\left(y - \\mu \\right),  \\sigma^2 M^{-1}\\right)\n",
    "\\end{align}\n",
    "where $ M = \\mathbf{W}^\\intercal\\mathbf{W} +\\sigma^2I $.\n",
    "***\n",
    "\n"
   ]
  },
  {
   "cell_type": "markdown",
   "metadata": {},
   "source": [
    "## EM for PPCA \n",
    "The complete log-likelihood of the model, including both observation $\\mathbf{Y} = (y_1,y_2,\\cdots,y_N)$ and latent variable $\\mathbf{X} = (x_1,x_2,\\cdots,x_N)$, is\n",
    "\\begin{align}\n",
    "\\mathcal{L} & = \\log p(\\mathbf{Y},\\mathbf{Z}|\\mu, \\mathbf{W}, \\sigma^2)  \\\\\n",
    "            & = \\sum_{i=1}^N \\left( \\log p(y_i|x_i) + \\log p(x_i)\\right) \\\\\n",
    "\\end{align}\n",
    "### E-step \n",
    "In the $\\mathbf{E}$-Step, we take the expectation of $\\mathcal{L}$ with respect to the posterior distribution $p(x|y,\\mathbf{W},\\sigma)$\n",
    "\\begin{align}\n",
    "\\mathbf{E}\\left[\\mathcal{L}\\right]  = &-\\frac{nd}{2}\\log2\\pi\\sigma^2 \n",
    "                                       -\\frac{1}{2\\sigma^2}\\sum_{i=1}^N||y_i-\\mu||_2 \n",
    "                                       +\\frac{1}{\\sigma^2}\\sum_{i=1}^N \\mathbf{E}[x_i | y_i]^\\intercal \\mathbf{W}^\\intercal (y_i-\\mu) \n",
    "                                       -\\frac{1}{2\\sigma^2}Tr\\left( \\mathbf{E}[x_i x_i^\\intercal|y_i]\\mathbf{W}^\\intercal \\mathbf{W} \\right)\\\\\n",
    "                                    &-\\frac{nq}{2}\\log2\\pi -\\frac{1}{2}\\sum_{i=1}^N \\mathbf{E}[x_i x_i^\\intercal|y_i]\n",
    "\\end{align}\n",
    "The conditional expectations $\\mathbf{E}[x_i|y_i]$ and $\\mathbf{E}[x_i x_i^\\intercal|y_i]$ can be estimated using current value\n",
    "\\begin{align}\n",
    "\\mathbf{E}[x_i|y_i] & =  M^{-1}\\mathbf{W}^\\intercal \\left(y - \\bar{y} \\right) \\\\\n",
    "\\mathbf{E}[x_i x_i^\\intercal|y_i] & = Var(x_i) + \\mathbf{E}[x_i]\\mathbf{E}[x_i]^\\intercal  \\\\\n",
    "                                  & = \\sigma^2 M^{-1}+ \\mathbf{E}[x_i]\\mathbf{E}[x_i]^\\intercal  \n",
    "\\end{align}"
   ]
  },
  {
   "cell_type": "markdown",
   "metadata": {},
   "source": [
    "### M-step\n",
    "In the $\\mathbf{M}$-Step, we maximize $\\mathbf{E}\\left[\\mathcal{L}\\right]$ with respect to $\\mathbf{W}$ and $\\sigma^2$.\n",
    "First, take the derivative of $\\mathbf{E}\\left[\\mathcal{L}\\right]$ with respect to $\\mathbf{W}$ and set it to 0, to get the updated $\\mathbf{W}_{new}$\n",
    "\\begin{align}\n",
    "\\frac{\\partial\\mathbf{E}\\left[\\mathcal{L}\\right]}{\\partial \\mathbf{W}} & = \\frac{1}{\\sigma^2}\\sum_{i=1}^N (y_i-\\mu) \\mathbf{E}[x_i|y_i]^\\intercal - \\frac{1}{2\\sigma^2}\\sum_{i=1}^N Tr\\left(\\mathbf{W}_{new}\\mathbf{E}[x_i x_i^\\intercal|y_i]\\right)\\\\\n",
    "& = 0\n",
    "\\end{align}\n",
    "\n",
    "\n",
    "\\begin{equation}\n",
    "\\mathbf{W}_{new}  = \\left( \\sum_{i=1}^N (y_i-\\mu) \\mathbf{E}[x_i|y_i]^\\intercal \\right) \\left( \\sum_{i=1}^N\\mathbf{E}[x_i x_i^\\intercal|y_i] \\right)^{-1}\n",
    "\\end{equation}\n",
    "\n",
    "Next, take the derivative of $\\mathbf{E}\\left[\\mathcal{L}\\right]$ with respect to $\\sigma^2$ and set it to 0, to get the updated $\\sigma^2_{new}$\n",
    "\\begin{align}\n",
    "\\frac{\\partial\\mathbf{E}\\left[\\mathcal{L}\\right]}{\\partial \\sigma^2} & = -\\frac{nd}{2\\sigma^2}+\\frac{1}{2\\sigma^4}\\sum_{i=1}^N||y_i-\\mu||_2 + \\frac{1}{\\sigma^4}\\sum_{i=1}^N\\mathbf{E}[x_i | y_i]^\\intercal \\mathbf{W}^\\intercal (y_i-\\mu) + \\frac{1}{2\\sigma^4}\\sum_{i=1}^NTr\\left(\\mathbf{E}[x_i x_i^\\intercal|y_i]\\mathbf{W}^\\intercal \\mathbf{W}\\right) \\\\\n",
    "& = 0\n",
    "\\end{align}\n",
    "\n",
    "\n",
    "\\begin{equation}\n",
    "\\sigma^2_{new}  = \\frac{1}{nd} \\sum_{i=1}^N \\left(||y_i-\\mu||_2 - 2\\mathbf{E}[x_i | y_i]^\\intercal \\mathbf{W}_{new}^\\intercal (y_i-\\mu) + Tr\\left(\\mathbf{E}[x_i x_i^\\intercal|y_i]\\mathbf{W}_{new}^\\intercal \\mathbf{W}_{new}\\right)\\right)\n",
    "\\end{equation}"
   ]
  },
  {
   "cell_type": "markdown",
   "metadata": {},
   "source": [
    "***\n",
    "## Initialization"
   ]
  },
  {
   "cell_type": "code",
   "execution_count": 16,
   "metadata": {
    "collapsed": false,
    "pycharm": {
     "name": "#%%\n"
    }
   },
   "outputs": [],
   "source": [
    "import os\n",
    "import numpy as np\n",
    "from numpy.linalg import inv\n",
    "from numpy import trace as tr\n",
    "import sklearn.datasets as ds\n",
    "import matplotlib.pyplot as plt\n",
    "\n",
    "os.sys.path.append('../src/')\n",
    "import PPCA"
   ]
  },
  {
   "cell_type": "markdown",
   "metadata": {},
   "source": [
    "## PPCA class definition"
   ]
  },
  {
   "cell_type": "markdown",
   "metadata": {},
   "source": [
    "## Iris data\n",
    "### Load data"
   ]
  },
  {
   "cell_type": "code",
   "execution_count": 17,
   "metadata": {},
   "outputs": [],
   "source": [
    "iris = ds.load_iris()\n",
    "iris_y = iris.data.T\n",
    "iris_classes = iris.target"
   ]
  },
  {
   "cell_type": "markdown",
   "metadata": {},
   "source": [
    "### Perform PPCA"
   ]
  },
  {
   "cell_type": "code",
   "execution_count": 31,
   "metadata": {},
   "outputs": [
    {
     "name": "stdout",
     "output_type": "stream",
     "text": [
      "Starting EM algorithm\n",
      "Running iter 0\n",
      "Running iter 10\n",
      "Running iter 20\n",
      "Running iter 30\n",
      "Running iter 40\n"
     ]
    }
   ],
   "source": [
    "ppca = PPCA.PPCA()\n",
    "ppca.fit(iris_y, verbose=True)\n",
    "x = ppca.transform()"
   ]
  },
  {
   "cell_type": "markdown",
   "metadata": {},
   "source": [
    "### Plot result"
   ]
  },
  {
   "cell_type": "code",
   "execution_count": 32,
   "metadata": {},
   "outputs": [
    {
     "data": {
      "image/png": "[encoded data removed]",
      "text/plain": [
       "<Figure size 432x288 with 1 Axes>"
      ]
     },
     "metadata": {
      "needs_background": "light"
     },
     "output_type": "display_data"
    }
   ],
   "source": [
    "ax = plt.gca() \n",
    "ax.scatter(x[0, :], x[1, :], c=iris_classes, s=20)\n",
    "ax.set_aspect('equal', 'box')"
   ]
  },
  {
   "cell_type": "markdown",
   "metadata": {},
   "source": []
  }
 ],
 "metadata": {
  "kernelspec": {
   "display_name": "Python 3",
   "language": "python",
   "name": "python3"
  },
  "language_info": {
   "codemirror_mode": {
    "name": "ipython",
    "version": 3
   },
   "file_extension": ".py",
   "mimetype": "text/x-python",
   "name": "python",
   "nbconvert_exporter": "python",
   "pygments_lexer": "ipython3",
   "version": "3.8.8"
  }
 },
 "nbformat": 4,
 "nbformat_minor": 0
}
